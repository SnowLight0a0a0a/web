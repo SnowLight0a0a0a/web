{
 "cells": [
  {
   "cell_type": "code",
   "execution_count": null,
   "id": "ahead-corporation",
   "metadata": {},
   "outputs": [],
   "source": []
  },
  {
   "cell_type": "code",
   "execution_count": 33,
   "id": "endangered-jersey",
   "metadata": {},
   "outputs": [],
   "source": [
    "import requests\n",
    "from bs4 import BeautifulSoup"
   ]
  },
  {
   "cell_type": "code",
   "execution_count": 34,
   "id": "private-guyana",
   "metadata": {},
   "outputs": [],
   "source": [
    "\n",
    "def get_content(target):\n",
    "    req = requests.get(url = target)\n",
    "    req.encoding = 'gb18030'\n",
    "    html= req.text\n",
    "    bf = BeautifulSoup(html, 'lxml')\n",
    "    texts = bf.find_all('div', class_ = 'noveltext')\n",
    "    content = texts[0].text.replace('\\xa0'*8,'\\n\\n')\n",
    "    return content\n"
   ]
  },
  {
   "cell_type": "code",
   "execution_count": 57,
   "id": "abstract-julian",
   "metadata": {},
   "outputs": [],
   "source": [
    "#爬取第一章\n",
    "if __name__ == \"__main__\":\n",
    "\n",
    "    numbid=2\n",
    "    numbid2 =1 \n",
    "\n",
    "\n",
    "for num in range(1,14):\n",
    "    url = (\"http://www.jjwxc.net/onebook.php?novelid=5053613&chapterid=\"+str(numbid))\n",
    "    req = requests.get(url)\n",
    "    req.encoding = req.apparent_encoding #避免中文乱码\n",
    "    html = req.text\n",
    "    bf = BeautifulSoup(html)\n",
    "   # print(texts[0].text.replace('\\xa0'*8,'\\n\\n')) # find_all匹配的返回的结果是一个列表\n",
    "    f = open(format(numbid2)+'.txt', 'w', encoding='gb18030') ##ffilename可以是原来的txt文件，也可以没有然后把写入的自动创建成txt文件\n",
    "    content = get_content(url)\n",
    "    f.write(content)\n",
    "    f.write('\\n')\n",
    "    f.write('______________________________________')\n",
    "    numbid = numbid+1\n",
    "    numbid2 = numbid2+1\n",
    "f.close()"
   ]
  },
  {
   "cell_type": "code",
   "execution_count": null,
   "id": "floating-softball",
   "metadata": {},
   "outputs": [],
   "source": []
  }
 ],
 "metadata": {
  "kernelspec": {
   "display_name": "Python 3",
   "language": "python",
   "name": "python3"
  },
  "language_info": {
   "codemirror_mode": {
    "name": "ipython",
    "version": 3
   },
   "file_extension": ".py",
   "mimetype": "text/x-python",
   "name": "python",
   "nbconvert_exporter": "python",
   "pygments_lexer": "ipython3",
   "version": "3.7.9"
  }
 },
 "nbformat": 4,
 "nbformat_minor": 5
}
