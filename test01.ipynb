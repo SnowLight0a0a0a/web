{
 "cells": [
  {
   "cell_type": "code",
   "execution_count": 9,
   "id": "minute-ancient",
   "metadata": {},
   "outputs": [],
   "source": [
    "import requests  #导入库\n",
    "from bs4 import BeautifulSoup #导入bs"
   ]
  },
  {
   "cell_type": "code",
   "execution_count": 10,
   "id": "equal-jimmy",
   "metadata": {
    "scrolled": true
   },
   "outputs": [
    {
     "name": "stdout",
     "output_type": "stream",
     "text": [
      "200\n"
     ]
    }
   ],
   "source": [
    "\n",
    "response = requests.get(\"https://www.baidu.com\")\n",
    "print(response.status_code)"
   ]
  },
  {
   "cell_type": "raw",
   "id": "engaged-packaging",
   "metadata": {},
   "source": [
    "一般源码获取成功的话执行状态码是200，这次却是418！！！\n",
    "于是查了一下418是代表什么：\n",
    "\n",
    "\n",
    "执行状态码：418解释（找到了一个介绍比较详细的博客）\n",
    "\n",
    "原来这里的418是网页服务器的反爬虫程序返回的，意思就我们被该网页服务器的反爬虫程序发现了，并禁止我们爬取"
   ]
  },
  {
   "cell_type": "code",
   "execution_count": 11,
   "id": "interracial-genesis",
   "metadata": {},
   "outputs": [
    {
     "name": "stdout",
     "output_type": "stream",
     "text": [
      "b'<!DOCTYPE html>\\r\\n<!--STATUS OK--><html> <head><meta http-equiv=content-type content=text/html;charset=utf-8><meta http-equiv=X-UA-Compatible content=IE=Edge><meta content=always name=referrer><link rel=stylesheet type=text/css href=https://ss1.bdstatic.com/5eN1bjq8AAUYm2zgoY3K/r/www/cache/bdorz/baidu.min.css><title>\\xe7\\x99\\xbe\\xe5\\xba\\xa6\\xe4\\xb8\\x80\\xe4\\xb8\\x8b\\xef\\xbc\\x8c\\xe4\\xbd\\xa0\\xe5\\xb0\\xb1\\xe7\\x9f\\xa5\\xe9\\x81\\x93</title></head> <body link=#0000cc> <div id=wrapper> <div id=head> <div class=head_wrapper> <div class=s_form> <div class=s_form_wrapper> <div id=lg> <img hidefocus=true src=//www.baidu.com/img/bd_logo1.png width=270 height=129> </div> <form id=form name=f action=//www.baidu.com/s class=fm> <input type=hidden name=bdorz_come value=1> <input type=hidden name=ie value=utf-8> <input type=hidden name=f value=8> <input type=hidden name=rsv_bp value=1> <input type=hidden name=rsv_idx value=1> <input type=hidden name=tn value=baidu><span class=\"bg s_ipt_wr\"><input id=kw name=wd class=s_ipt value maxlength=255 autocomplete=off autofocus=autofocus></span><span class=\"bg s_btn_wr\"><input type=submit id=su value=\\xe7\\x99\\xbe\\xe5\\xba\\xa6\\xe4\\xb8\\x80\\xe4\\xb8\\x8b class=\"bg s_btn\" autofocus></span> </form> </div> </div> <div id=u1> <a href=http://news.baidu.com name=tj_trnews class=mnav>\\xe6\\x96\\xb0\\xe9\\x97\\xbb</a> <a href=https://www.hao123.com name=tj_trhao123 class=mnav>hao123</a> <a href=http://map.baidu.com name=tj_trmap class=mnav>\\xe5\\x9c\\xb0\\xe5\\x9b\\xbe</a> <a href=http://v.baidu.com name=tj_trvideo class=mnav>\\xe8\\xa7\\x86\\xe9\\xa2\\x91</a> <a href=http://tieba.baidu.com name=tj_trtieba class=mnav>\\xe8\\xb4\\xb4\\xe5\\x90\\xa7</a> <noscript> <a href=http://www.baidu.com/bdorz/login.gif?login&amp;tpl=mn&amp;u=http%3A%2F%2Fwww.baidu.com%2f%3fbdorz_come%3d1 name=tj_login class=lb>\\xe7\\x99\\xbb\\xe5\\xbd\\x95</a> </noscript> <script>document.write(\\'<a href=\"http://www.baidu.com/bdorz/login.gif?login&tpl=mn&u=\\'+ encodeURIComponent(window.location.href+ (window.location.search === \"\" ? \"?\" : \"&\")+ \"bdorz_come=1\")+ \\'\" name=\"tj_login\" class=\"lb\">\\xe7\\x99\\xbb\\xe5\\xbd\\x95</a>\\');\\r\\n                </script> <a href=//www.baidu.com/more/ name=tj_briicon class=bri style=\"display: block;\">\\xe6\\x9b\\xb4\\xe5\\xa4\\x9a\\xe4\\xba\\xa7\\xe5\\x93\\x81</a> </div> </div> </div> <div id=ftCon> <div id=ftConw> <p id=lh> <a href=http://home.baidu.com>\\xe5\\x85\\xb3\\xe4\\xba\\x8e\\xe7\\x99\\xbe\\xe5\\xba\\xa6</a> <a href=http://ir.baidu.com>About Baidu</a> </p> <p id=cp>&copy;2017&nbsp;Baidu&nbsp;<a href=http://www.baidu.com/duty/>\\xe4\\xbd\\xbf\\xe7\\x94\\xa8\\xe7\\x99\\xbe\\xe5\\xba\\xa6\\xe5\\x89\\x8d\\xe5\\xbf\\x85\\xe8\\xaf\\xbb</a>&nbsp; <a href=http://jianyi.baidu.com/ class=cp-feedback>\\xe6\\x84\\x8f\\xe8\\xa7\\x81\\xe5\\x8f\\x8d\\xe9\\xa6\\x88</a>&nbsp;\\xe4\\xba\\xacICP\\xe8\\xaf\\x81030173\\xe5\\x8f\\xb7&nbsp; <img src=//www.baidu.com/img/gs.gif> </p> </div> </div> </div> </body> </html>\\r\\n'\n"
     ]
    }
   ],
   "source": [
    "print(response.content) "
   ]
  },
  {
   "cell_type": "raw",
   "id": "appointed-blind",
   "metadata": {},
   "source": [
    "看什么格式\n",
    "<input type=hidden name=ie value=utf-8>\n",
    "“避免中文乱码”\n",
    "一定要看"
   ]
  },
  {
   "cell_type": "code",
   "execution_count": 14,
   "id": "hindu-storm",
   "metadata": {},
   "outputs": [],
   "source": [
    "url = \"http://www.jjwxc.net/onebook.php?novelid=5053613&chapterid=2\"\n",
    "req = requests.get(url)\n",
    "req.encoding = 'gb18030'\n",
    "html= req.text\n",
    "bf = BeautifulSoup(html, 'lxml')\n",
    "texts = bf.find_all('div', class_ = 'noveltext')\n"
   ]
  },
  {
   "cell_type": "raw",
   "id": "incomplete-finder",
   "metadata": {},
   "source": [
    "获得html信息中所有class属性为panel-body，noveltext，等等的div标签 \n",
    "提取匹配结果后，使用text属性，提取文本内容，滤除br标签。随后使用replace方法，剔除空格，替换为回车进行分段。 \n",
    "在html中是用来表示空格的。replace('\\xa0'*8,'\\n\\n')就是去掉八个空格符号，并用回车代替"
   ]
  },
  {
   "cell_type": "code",
   "execution_count": 15,
   "id": "falling-serbia",
   "metadata": {},
   "outputs": [
    {
     "name": "stdout",
     "output_type": "stream",
     "text": [
      "\n",
      "\r\n",
      "                                [收藏此章节]\r\n",
      "                                \n",
      "\n",
      "[举报]\n",
      "\n",
      "\n",
      "\n",
      "举报色情有害\n",
      "举报刷数据\n",
      "举报伪更\n",
      "其他\n",
      "\n",
      "\n",
      "\n",
      "\n",
      "文章收藏\n",
      " \n",
      "\n",
      "为收藏文章分类\n",
      "\n",
      "\n",
      "\n",
      "\n",
      "\n",
      "新增取消\n",
      "\n",
      "\n",
      "+新增收藏类别\n",
      "\n",
      "\n",
      "定制收藏类别     查看收藏列表\n",
      "\n",
      "\n",
      "\n",
      "\n",
      "第一章\n",
      "\n",
      "作者有话要说：私设满天飞啊！！　　深夜，中原中也从便利店里走出，连续几日的加班让他无比疲惫，婉拒了红叶吃饭的邀请后，在便利店买了一份便当凑合着往家走。　　　　此时的街道上除了故障的路灯发出的声音，便再也没有其他声音了。　　　　但长久以来在战斗中锻炼出来的直觉，让中原中也察觉到了身后的一丝异样，他斜睨一眼斜后方，在他身后不远处的路灯照不到的路段上有一个模糊的影子。　　　　‘啧’了一声，满身疲惫的中原中也收回视线，他故意散发出骇人的杀气来警示后方，但后方的影子紧紧只是停顿了一下，就又跟了上来。　　　　就这么想被重力狠狠碾压吗？！中原中也额角凸起青筋，他加快脚步，转进了路边的小巷里，往里面走了几步，果不其然听到了另一道脚步声，还有撞到垃圾桶的声音。　　　　他冷笑一声，不管对方是哪里的新手，刚才他已经给过机会了，事到如今别指望他会手下留情了。　　　　将手里的便当袋扔在一边，他猛的一转身，脚下的地面砰的一声塌陷下去，“准备好受死了吧混……”话音戛然而止，他不可置信的看着双眼含泪的小身影。　　　　然后，从那个小身影的肚子里发出的咕噜声打破了凝固的气氛。　　　　　　中原中也：“……哈？”　　　　几分钟后，中原中也单手拄着脸注视着身侧吃着他便当的女孩，冷静下来后想，难怪会撞到垃圾桶，小孩的话肯定会撞到的吧，最开始感受到的也只是一道视线，并没有恶意，稍微注意下的话也不会变的这么麻烦了。　　　　越想越烦躁，他用力挠了挠两侧的头发，如果不是这两天工作过于疲惫，他也不至于这么大意，好在没用贸然出手。　　　　瞥了一眼女孩稚嫩的脸颊，他松了口气，顺便打量这个，毫不客气吃着他便当的孩子，一头一看就没人搭理过的橘红色短发披散在背上，身上穿着一条宽大的衬衫，怀里躺着一只黑色的兔子玩偶，光着脚，脚上已经沾满了灰尘。　　　　是哪个福利院跑出来的吗？他漫不经心的想着，女孩正巧抬起头与他对视，看着那双眼睛中原中也心中咯噔一下。　　　　刚才在没有灯光的小巷里他没有注意，现在仔细一看这双眼睛的颜色和他一样都是蓝色的，还有这头发色……他猛地摇头阻止更进一步恐怖的想法钻入脑中，整理好情绪他开口问道：“小鬼，你从哪里来的？为什么要跟着我？”　　　　女孩咽下嘴里的食物，看了他一眼，落寞的低下头，眼中又弥漫起了水雾，“停停停！”中原中也立马叫停，他瞥了好几眼女孩想接着追问，可看到她泛红的眼角和眼中的水雾……　　　　“啊啊！我知道了！可以了！你不用回答也可以！赶紧吃吧！”　　　　他放空的大脑中冒出一个想法，这难道是太宰那个混蛋给他找的麻烦吗？如果是的话他就别想见到明天横滨的太阳了，去海里吃鱼吧。　　　　等到女孩吃完，中原中也也认命了，他站起身女孩也赶紧抱着兔子布偶站起身，看到女孩嘴角的米粒，他无奈的叹气，蹲下身掏出手帕给她擦嘴，同时语重心长的问：“你住在哪里？我送你回去。”　　　　女孩抱着布偶沉默了片刻，抬手指了一个方向，“在哪里吗！”中原中也站起身顺着女孩手指的方向看过去，嘴角的笑容凝固了，“给我等等……你怎么知道的？！”　　　　那个方向分明就是他目前所居住的公寓，虽然是大概方向，但他可不会相信女孩恰巧和他居住在一个小区这种事情。　　　　一瞬间又一个想法产生，中原中也的目光冷了下来，他低头注视着不安的女孩，说：“我不是没有见过，也不是没有听说过，有的地方会用你这样的小鬼来做诱饵，如果想活命的话，现在告诉我你背后的家伙，我还可以让你活着。”　　　　女孩没有被他冰冷的态度吓到，不停的摇头，她张了张嘴想说什么，却在触碰到他冰冷的目光后，闭上了嘴巴。　　　　“……”　　　　“算了。”他不在去看女孩，径直往前走，安静几秒钟后，身后又传来女孩的脚步声。　　　　中原中也知道这个世界上有这种帮助普通人的地方，可笑的是，他应该第一时间就想到的，黑手党送小孩回家传出去真是可笑。　　　　“就这样，这个小鬼是我在十九街道那边的路边碰到的，你们帮忙找一找她的父母吧。”　　　　与警/察交代往后，中原中也想离开时，裤腿被拽住了，他没低头，目视着前方，语气冷淡：“放开，这里的人会帮你，有什么难处就和他们说吧。”　　　　女孩没有松开，中原中也加重语气，说：“放开。”　　　　女孩依然没有松开，一股无名之火在他心头窜起，他低头大吼道：“别逼我对小鬼动手！”　　　　被他吓的女孩身体一抖，松开了他的裤腿，在警/察们诧异的目光中，他走出了警/察局，心情却并没有因此而变好，反而更加糟糕了，女孩不安的样子在眼前挥之不去，他烦躁的加快了脚步。　　　　突然，他停下脚步，身后涌动着令人熟悉的能量让他转过身，漂浮在空中被红色的光笼罩着的小石子和站在石子后方委屈抱着布偶的女孩都让他惊讶不已。　　　　“你……”他感觉有什么东西堵在嘴边，让他说不出话来，他拥有异能，他有着比其他异能者对异能更敏感的感觉，所以不会错的，女孩身上的异能虽然又细微的不同，但确实和他有着联系。　　　　仿佛过了很久，但从警察局追出来的警/察在告诉他，并没有多久。　　　　“小朋友不可以乱跑啊！”和善的警察握住女孩的手，说：“听话，回到屋子里面去，外面会有坏人的。”　　　　女孩没有动，橘红色刘海在她眼前投下一片阴影，在阴影之下女孩蓝色的眼睛黯淡无光。　　　　这一幕刺痛了中原中也，他走过去对警察说：“抱歉，我想起来这孩子的父母是谁了。”他的声音有些哑，警/察怀疑的看着他，“你确定吗？你刚才的样子可不像是认识这孩子父母的样子。”　　　　“刚才是我忘了。”　　　　“你……”　　　　女孩跑到他身边握住他手的动作，打断了警察的话，看女孩如此亲近他的样子打消了警/察的疑心，叮嘱了几句后就让他们回去了。　　　　回去的路上，中原中也抱着女孩，侧头偷瞄女孩，女孩察觉到后脸上立马绽放出甜甜的笑容。　　　　中原中也停下脚步把女孩放在地上，蹲下来注视着女孩的眼睛，认真的询问：“你是从那里来的吗？如果是的话，你为什么是……”这个样子。　　　　他欲言又止，根据他了解到的，根本就没有女孩的存在，但是现如今女孩出现在她面前，明晃晃的告诉他，她是存在的。那么如果她是存在的，为什么在八年后才出现，而且怎么也不应该是现在的年龄。　　　　女孩又沉默了，就在中原中也以为这次也什么问不出来的时候，她开口了：“因为……爆炸，所以睡着了……”　　　　虽然说得断断续续，但中原中也还是捕捉到了关键词，“八年前的那场爆炸中，哪里应该已经什么都不在了，你是怎么活下来的？”　　　　“地下……”她边说边用一只手比划，“被埋着……”　　　　被埋在了地下吗……如果是那样的原因的话，导致沉睡那么身体没有变化也可以解释了。　　　　谜题还有很多，但中原中也已经确认了女孩和他是一样的，这样就更不能放任她不管了。　　　　“你……有名字吗？”　　　　听到这个问题，女孩的眼睛一瞬间亮了，欣喜在脸上绽放：“美宥！”　　　　“美宥啊……姓氏有吗？”　　　　瞬间受到打击的女孩低下头，这快速的转变弄得中原中也哭笑不得，他拍了拍女孩的脑袋，起身。　　　　“走吧，没有的话也正好。”　　　　深夜被中原中也拜托的森欧外难得意外的看着他。　　　　“我还在想你主动拜托我事情，会是什么事情。”　　　　已经将可能性一一在脑中过了一遍，却没想到中原中也带着一个小孩子来，说是想拜托他帮他为这个孩子办理收养手续。　　　　“很抱歉首领，但我一人的话这件事情很难处理。”中原中也脱帽放在胸前低下头充满歉意的说，“这家伙的性/质很特殊。”　　　　森鸥外打量着牵着中原中也手抱着布偶的女孩，女孩也看着他，并对他笑了，让他有些意外。　　　　“不是什么大问题中也君，把头抬起来吧。”森鸥外双手交叉放在桌子上，笑着说：“这也是你第一次拜托我什么事情，别担心我会处理好的，不过你得和我说说你和这个孩子的事情。”　　　　“是。”　　　　中原中也简略的叙述一遍他与女孩的相遇，然后怎么认出女孩身份的，说到这里他把之前自己心中动摇换成了肯定，“她……美宥毫无疑问和我来自通一个地方，因为八年前的爆炸而沉睡在地底，身体也因此发生了异变，恐怕她是靠着我们之间独有的共鸣找过来的，我不能放任她不管。”　　　　虽然根本没有那种东西，中原中也心中想。他和美宥并不存在什么共鸣，如果不是美宥使用了能力他察觉到了违和感，恐怕是发现不了的。　　　　但下意识的，他向森鸥外隐瞒了这一点，心中隐约有个声音告诉他，不要把美宥身上的一些谜团透露给森鸥外太多，隐瞒对双方来说都是好事。　　　　暗红色的瞳孔将一大一小的身影映入眼中，森鸥外食指有节奏的敲击桌面，室内一时间只有他敲击桌面的声音，过了片刻他停手，笑眯眯的说：“既然是可靠部下的请求，我自然是不会拒绝的，收养手续明天就可以办好了，顺便一提你想和这个孩子是什么关系？”　　　　“当然是……”　　　　“爸爸！”　　　　将中原中也没说出口的兄妹硬生生怼了回去的是，女孩响亮的声音。　　　　脖子宛如生锈的机器转动时发出吱嘎吱嘎的声音，中原中也扬起一个僵硬的笑容：“不行，我才十五。”　　　　“爸爸！”　　　　“所以说我当不了你爸爸！而且怎么看我们都应该是兄妹！”　　　　“爸爸……”美宥抱着布偶用宛如小猫一样湿漉漉的眼睛看着他，中原中也抬手啪的拍在脸上，从指缝里传出他咬牙切齿的声音：“就是这样首领拜托你了，我和这家伙的关系就写成父女吧。”　　　　‘父女’二字被他加了重音，仿佛连话语上都施加了可怕的重力。　　　　将两个人的行为尽收眼底的森鸥外笑出声，但在部下的注视下，他又忍笑意清了清嗓子，朝着女孩露出友善的笑容。　　　　“欢迎你的到来，中原美宥。”　　　　                            \n",
      "\n",
      "\n",
      " 插入书签　\r\n",
      "                                \n",
      "\n",
      "\n",
      "\n",
      "\n",
      "\n",
      "\n",
      "\n",
      "\n",
      "\n"
     ]
    }
   ],
   "source": [
    "print(texts[0].text.replace('\\xa0'*8,'\\n\\n'))"
   ]
  },
  {
   "cell_type": "raw",
   "id": "radical-silicon",
   "metadata": {},
   "source": [
    "find_all匹配的返回的结果是一个列表"
   ]
  },
  {
   "cell_type": "code",
   "execution_count": null,
   "id": "local-mirror",
   "metadata": {},
   "outputs": [],
   "source": [
    "content = texts[0].text.replace('\\xa0'*8,'\\n\\n') "
   ]
  }
 ],
 "metadata": {
  "kernelspec": {
   "display_name": "Python 3",
   "language": "python",
   "name": "python3"
  },
  "language_info": {
   "codemirror_mode": {
    "name": "ipython",
    "version": 3
   },
   "file_extension": ".py",
   "mimetype": "text/x-python",
   "name": "python",
   "nbconvert_exporter": "python",
   "pygments_lexer": "ipython3",
   "version": "3.7.9"
  }
 },
 "nbformat": 4,
 "nbformat_minor": 5
}
